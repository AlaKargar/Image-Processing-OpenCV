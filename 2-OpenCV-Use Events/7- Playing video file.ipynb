{
 "cells": [
  {
   "cell_type": "code",
   "execution_count": 1,
   "metadata": {},
   "outputs": [],
   "source": [
    "import cv2\n",
    "import matplotlib.pyplot as plt"
   ]
  },
  {
   "cell_type": "code",
   "execution_count": 4,
   "metadata": {},
   "outputs": [
    {
     "name": "stdout",
     "output_type": "stream",
     "text": [
      "Exiting...\n"
     ]
    }
   ],
   "source": [
    "cap= cv2.VideoCapture('../Images/vid.mp4')\n",
    "\n",
    "while True:\n",
    "    ret, frame= cap.read()\n",
    "\n",
    "    if not ret:\n",
    "        print('Exiting...')\n",
    "        break\n",
    "    \n",
    "    cv2.imshow('Gray vid', frame)\n",
    "    if cv2.waitKey(14) & 0xFF == 27:\n",
    "        break\n",
    "cap.release()\n",
    "cv2.destroyAllWindows()"
   ]
  },
  {
   "cell_type": "markdown",
   "metadata": {},
   "source": [
    "GrayScale video"
   ]
  },
  {
   "cell_type": "code",
   "execution_count": 5,
   "metadata": {},
   "outputs": [],
   "source": [
    "cap= cv2.VideoCapture('../Images/vid.mp4')\n",
    "\n",
    "while True:\n",
    "    ret, frame= cap.read()\n",
    "\n",
    "    if not ret:\n",
    "        print('Exiting...')\n",
    "        break\n",
    "    gray= cv2.cvtColor(frame, cv2.COLOR_BGR2GRAY)\n",
    "    cv2.imshow('Gray vid', gray)\n",
    "    if cv2.waitKey(14) & 0xFF == 27:\n",
    "        break\n",
    "cap.release()\n",
    "cv2.destroyAllWindows()"
   ]
  }
 ],
 "metadata": {
  "kernelspec": {
   "display_name": "Python 3",
   "language": "python",
   "name": "python3"
  },
  "language_info": {
   "codemirror_mode": {
    "name": "ipython",
    "version": 3
   },
   "file_extension": ".py",
   "mimetype": "text/x-python",
   "name": "python",
   "nbconvert_exporter": "python",
   "pygments_lexer": "ipython3",
   "version": "3.12.4"
  }
 },
 "nbformat": 4,
 "nbformat_minor": 2
}

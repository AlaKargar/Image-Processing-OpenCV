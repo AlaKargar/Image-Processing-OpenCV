{
 "cells": [
  {
   "cell_type": "code",
   "execution_count": 2,
   "id": "6aa60b69",
   "metadata": {},
   "outputs": [],
   "source": [
    "import numpy as np\n",
    "import cv2"
   ]
  },
  {
   "cell_type": "markdown",
   "id": "f88e2a08",
   "metadata": {},
   "source": [
    "Print events"
   ]
  },
  {
   "cell_type": "code",
   "execution_count": 3,
   "id": "01dfb045",
   "metadata": {},
   "outputs": [
    {
     "name": "stdout",
     "output_type": "stream",
     "text": [
      "['EVENT_FLAG_ALTKEY', 'EVENT_FLAG_CTRLKEY', 'EVENT_FLAG_LBUTTON', 'EVENT_FLAG_MBUTTON', 'EVENT_FLAG_RBUTTON', 'EVENT_FLAG_SHIFTKEY', 'EVENT_LBUTTONDBLCLK', 'EVENT_LBUTTONDOWN', 'EVENT_LBUTTONUP', 'EVENT_MBUTTONDBLCLK', 'EVENT_MBUTTONDOWN', 'EVENT_MBUTTONUP', 'EVENT_MOUSEHWHEEL', 'EVENT_MOUSEMOVE', 'EVENT_MOUSEWHEEL', 'EVENT_RBUTTONDBLCLK', 'EVENT_RBUTTONDOWN', 'EVENT_RBUTTONUP']\n"
     ]
    }
   ],
   "source": [
    "events = [i for i in dir(cv2) if 'EVENT' in i]\n",
    "print(events)"
   ]
  },
  {
   "cell_type": "markdown",
   "id": "9413f201",
   "metadata": {},
   "source": [
    "Draw a circle using left click"
   ]
  },
  {
   "cell_type": "code",
   "execution_count": null,
   "id": "7e716902",
   "metadata": {},
   "outputs": [],
   "source": [
    "def draw_circles(event, x, y, flags, param):\n",
    "    if event == cv2.EVENT_LBUTTONDOWN:\n",
    "        cv2.circle(img, (x, y), 20, (150, 0, 200), -1)\n",
    "        \n",
    "img= np.zeros((512, 512, 3), np.uint8)\n",
    "\n",
    "cv2.namedWindow('Image click')\n",
    "cv2.setMouseCallback('Image click', draw_circles)\n",
    "\n",
    "while True:\n",
    "    cv2.imshow('Image click', img)\n",
    "    if cv2.waitKey(1) & 0xFF == 27: #Close window using esc\n",
    "        break\n",
    "cv2.destroyAllWindows()\n"
   ]
  }
 ],
 "metadata": {
  "kernelspec": {
   "display_name": "Python 3",
   "language": "python",
   "name": "python3"
  },
  "language_info": {
   "codemirror_mode": {
    "name": "ipython",
    "version": 3
   },
   "file_extension": ".py",
   "mimetype": "text/x-python",
   "name": "python",
   "nbconvert_exporter": "python",
   "pygments_lexer": "ipython3",
   "version": "3.12.4"
  }
 },
 "nbformat": 4,
 "nbformat_minor": 5
}
